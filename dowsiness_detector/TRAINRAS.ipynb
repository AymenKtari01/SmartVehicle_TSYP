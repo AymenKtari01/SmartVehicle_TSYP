{
 "cells": [
  {
   "cell_type": "code",
   "execution_count": null,
   "metadata": {
    "collapsed": true,
    "pycharm": {
     "is_executing": true
    }
   },
   "outputs": [],
   "source": [
    "\n",
    "# import required packages\n",
    "import cv2\n",
    "from keras.models import Sequential\n",
    "from keras.layers import Conv2D, MaxPooling2D, Dense, Dropout, Flatten\n",
    "from keras.optimizers import Adam\n",
    "from keras.preprocessing.image import ImageDataGenerator"
   ]
  },
  {
   "cell_type": "code",
   "execution_count": null,
   "outputs": [],
   "source": [
    "from sklearn.model_selection import train_test_split\n",
    "train_data_gen = ImageDataGenerator(\n",
    "        rescale=1./255 )\n",
    "\n",
    "# Preprocess all test images\n",
    "train_generator = train_data_gen.flow_from_directory(\n",
    "        'drowsiness_detector/cropped_data1',\n",
    "        target_size=(48, 48),\n",
    "        batch_size=64,\n",
    "        color_mode=\"grayscale\",\n",
    "        class_mode='categorical',\n",
    "    shuffle=True # Set shuffle to True initially\n",
    ")\n",
    "\n",
    "# create model structure\n",
    "vehicule_model = Sequential()\n",
    "\n",
    "vehicule_model.add(Conv2D(32, kernel_size=(3, 3), activation='relu', input_shape=(48, 48, 1)))\n",
    "vehicule_model.add(Conv2D(64, kernel_size=(3, 3), activation='relu'))\n",
    "vehicule_model.add(MaxPooling2D(pool_size=(2, 2)))\n",
    "vehicule_model.add(Dropout(0.25))\n",
    "\n",
    "vehicule_model.add(Conv2D(128, kernel_size=(3, 3), activation='relu'))\n",
    "vehicule_model.add(MaxPooling2D(pool_size=(2, 2)))\n",
    "vehicule_model.add(Conv2D(128, kernel_size=(3, 3), activation='relu'))\n",
    "vehicule_model.add(MaxPooling2D(pool_size=(2, 2)))\n",
    "vehicule_model.add(Dropout(0.25))\n",
    "\n",
    "vehicule_model.add(Flatten())\n",
    "vehicule_model.add(Dense(1024, activation='relu'))\n",
    "vehicule_model.add(Dropout(0.5))\n",
    "vehicule_model.add(Dense(5, activation='softmax'))\n",
    "\n",
    "cv2.ocl.setUseOpenCL(False)\n",
    "\n",
    "vehicule_model.compile(loss='categorical_crossentropy', optimizer=Adam(lr=0.0001), metrics=['accuracy'])"
   ],
   "metadata": {
    "collapsed": false,
    "pycharm": {
     "is_executing": true
    }
   }
  },
  {
   "cell_type": "code",
   "execution_count": 18,
   "outputs": [
    {
     "name": "stdout",
     "output_type": "stream",
     "text": [
      "Epoch 1/20\n",
      "92/92 [==============================] - 45s 450ms/step - loss: 0.7859 - accuracy: 0.7031 - val_loss: 0.3852 - val_accuracy: 0.8510\n",
      "Epoch 2/20\n",
      "92/92 [==============================] - 42s 455ms/step - loss: 0.3523 - accuracy: 0.8550 - val_loss: 0.2415 - val_accuracy: 0.9006\n",
      "Epoch 3/20\n",
      "92/92 [==============================] - 37s 405ms/step - loss: 0.2815 - accuracy: 0.8855 - val_loss: 0.2583 - val_accuracy: 0.8979\n",
      "Epoch 4/20\n",
      "92/92 [==============================] - 40s 432ms/step - loss: 0.2355 - accuracy: 0.9022 - val_loss: 0.1781 - val_accuracy: 0.9312\n",
      "Epoch 5/20\n",
      "92/92 [==============================] - 42s 455ms/step - loss: 0.2104 - accuracy: 0.9147 - val_loss: 0.1952 - val_accuracy: 0.9153\n",
      "Epoch 6/20\n",
      "92/92 [==============================] - 40s 438ms/step - loss: 0.1953 - accuracy: 0.9241 - val_loss: 0.1305 - val_accuracy: 0.9530\n",
      "Epoch 7/20\n",
      "92/92 [==============================] - 39s 420ms/step - loss: 0.1600 - accuracy: 0.9390 - val_loss: 0.1038 - val_accuracy: 0.9616\n",
      "Epoch 8/20\n",
      "92/92 [==============================] - 39s 421ms/step - loss: 0.1444 - accuracy: 0.9438 - val_loss: 0.0975 - val_accuracy: 0.9689\n",
      "Epoch 9/20\n",
      "92/92 [==============================] - 39s 421ms/step - loss: 0.1394 - accuracy: 0.9446 - val_loss: 0.0880 - val_accuracy: 0.9718\n",
      "Epoch 10/20\n",
      "92/92 [==============================] - 39s 425ms/step - loss: 0.1193 - accuracy: 0.9544 - val_loss: 0.0779 - val_accuracy: 0.9767\n",
      "Epoch 11/20\n",
      "92/92 [==============================] - 38s 413ms/step - loss: 0.1121 - accuracy: 0.9554 - val_loss: 0.0707 - val_accuracy: 0.9738\n",
      "Epoch 12/20\n",
      "92/92 [==============================] - 38s 417ms/step - loss: 0.0934 - accuracy: 0.9662 - val_loss: 0.0566 - val_accuracy: 0.9829\n",
      "Epoch 13/20\n",
      "92/92 [==============================] - 40s 430ms/step - loss: 0.0896 - accuracy: 0.9674 - val_loss: 0.0714 - val_accuracy: 0.9713\n",
      "Epoch 14/20\n",
      "92/92 [==============================] - 39s 419ms/step - loss: 0.0870 - accuracy: 0.9672 - val_loss: 0.0396 - val_accuracy: 0.9865\n",
      "Epoch 15/20\n",
      "92/92 [==============================] - 38s 418ms/step - loss: 0.0842 - accuracy: 0.9675 - val_loss: 0.0636 - val_accuracy: 0.9806\n",
      "Epoch 16/20\n",
      "92/92 [==============================] - 39s 427ms/step - loss: 0.0722 - accuracy: 0.9733 - val_loss: 0.0363 - val_accuracy: 0.9902\n",
      "Epoch 17/20\n",
      "92/92 [==============================] - 38s 409ms/step - loss: 0.0691 - accuracy: 0.9720 - val_loss: 0.0251 - val_accuracy: 0.9932\n",
      "Epoch 18/20\n",
      "92/92 [==============================] - 38s 413ms/step - loss: 0.0596 - accuracy: 0.9788 - val_loss: 0.0194 - val_accuracy: 0.9968\n",
      "Epoch 19/20\n",
      "92/92 [==============================] - 39s 426ms/step - loss: 0.0534 - accuracy: 0.9810 - val_loss: 0.0148 - val_accuracy: 0.9953\n",
      "Epoch 20/20\n",
      "92/92 [==============================] - 40s 439ms/step - loss: 0.0496 - accuracy: 0.9815 - val_loss: 0.0186 - val_accuracy: 0.9941\n"
     ]
    }
   ],
   "source": [
    "\n",
    "# Train the neural network/model\n",
    "vehicule_model_info = vehicule_model.fit(\n",
    "        train_generator,\n",
    "        steps_per_epoch=5914// 64,\n",
    "        epochs=20,\n",
    "        validation_data=train_generator ,\n",
    "        validation_split=.2 ,\n",
    "\n",
    "        shuffle=True)"
   ],
   "metadata": {
    "collapsed": false
   }
  },
  {
   "cell_type": "code",
   "execution_count": 19,
   "outputs": [],
   "source": [
    "# save model structure in jason file\n",
    "model_json = vehicule_model.to_json()\n",
    "with open(\"facefin2_model.json\", \"w\") as json_file:\n",
    "    json_file.write(model_json)\n",
    "\n",
    "# save trained model weight in .h5 file\n",
    "vehicule_model.save_weights('facefin2_model.h5')"
   ],
   "metadata": {
    "collapsed": false
   }
  }
 ],
 "metadata": {
  "kernelspec": {
   "display_name": "Python 3",
   "language": "python",
   "name": "python3"
  },
  "language_info": {
   "codemirror_mode": {
    "name": "ipython",
    "version": 2
   },
   "file_extension": ".py",
   "mimetype": "text/x-python",
   "name": "python",
   "nbconvert_exporter": "python",
   "pygments_lexer": "ipython2",
   "version": "2.7.6"
  }
 },
 "nbformat": 4,
 "nbformat_minor": 0
}
