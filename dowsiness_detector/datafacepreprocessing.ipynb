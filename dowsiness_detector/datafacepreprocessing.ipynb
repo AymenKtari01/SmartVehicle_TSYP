{
 "cells": [
  {
   "cell_type": "raw",
   "source": [],
   "metadata": {
    "collapsed": false,
    "pycharm": {
     "name": ""
    }
   }
  },
  {
   "cell_type": "code",
   "execution_count": null,
   "metadata": {
    "collapsed": true
   },
   "outputs": [],
   "source": [
    "import cv2\n",
    "import numpy as np\n",
    "import os\n",
    "\n",
    "prototxt_path = \"deploy.prototxt\"\n",
    "caffemodel_path = \"res10_300x300_ssd_iter_140000_fp16.caffemodel\"\n",
    "net = cv2.dnn.readNetFromCaffe(prototxt_path, caffemodel_path)\n",
    "\n",
    "def cvDnnDetectFaces(image, opencv_dnn_model, min_confidence=0.5, display=True):\n",
    "    image_height, image_width, _ = image.shape\n",
    "    output_image = image.copy()\n",
    "\n",
    "    preprocessed_image = cv2.dnn.blobFromImage(image, scalefactor=1.0, size=(300, 300),\n",
    "                                               mean=(104.0, 117.0, 123.0), swapRB=False, crop=False)\n",
    "\n",
    "    opencv_dnn_model.setInput(preprocessed_image)\n",
    "    results = opencv_dnn_model.forward()\n",
    "\n",
    "    detected_faces = []\n",
    "\n",
    "    for face in results[0, 0]:\n",
    "        face_confidence = face[2]\n",
    "\n",
    "        if face_confidence > min_confidence:\n",
    "            bbox = face[3:]\n",
    "\n",
    "            x1 = int(bbox[0] * image_width)\n",
    "            y1 = int(bbox[1] * image_height)\n",
    "            x2 = int(bbox[2] * image_width)\n",
    "            y2 = int(bbox[3] * image_height)\n",
    "\n",
    "            # Draw the rectangle on the output image\n",
    "            cv2.rectangle(output_image, pt1=(x1, y1), pt2=(x2, y2), color=(0, 255, 0), thickness=image_width // 200)\n",
    "\n",
    "            # Append face coordinates to the list\n",
    "            detected_faces.append((x1, y1, x2, y2))\n",
    "\n",
    "    if display:\n",
    "        cv2.imshow(\"Output\", output_image)\n",
    "    else:\n",
    "        return output_image, detected_faces\n",
    "\n",
    "DATA_DIR = 'drowsiness_detector/data/train1'\n",
    "OUTPUT_DIR = 'drowsiness_detector/cropped_data1'\n",
    "os.makedirs(OUTPUT_DIR, exist_ok=True)\n",
    "\n",
    "for class_name in os.listdir(DATA_DIR):\n",
    "    class_dir = os.path.join(DATA_DIR, class_name)\n",
    "    output_class_dir = os.path.join(OUTPUT_DIR, class_name)\n",
    "    os.makedirs(output_class_dir, exist_ok=True)\n",
    "\n",
    "    for img_name in os.listdir(class_dir):\n",
    "        img_path = os.path.join(class_dir, img_name)\n",
    "        img = cv2.imread(img_path)\n",
    "\n",
    "        if img is not None:\n",
    "            output_image, detected_faces = cvDnnDetectFaces(img, net, display=False)\n",
    "\n",
    "            for i, face_info in enumerate(detected_faces):\n",
    "                x1, y1, x2, y2 = face_info\n",
    "                output_path = os.path.join(output_class_dir, f\"face_{i}_{img_name}\")\n",
    "\n",
    "                if y2 > 0 and x2 > 0 and y2 <= img.shape[0] and x2 <= img.shape[1]:\n",
    "                    cv2.imwrite(output_path, img[y1:y2, x1:x2])\n",
    "                else:\n",
    "                    print(f\"Skipping saving image {output_path} due to empty or invalid region\")\n",
    "\n",
    "cv2.destroyAllWindows()"
   ]
  }
 ],
 "metadata": {
  "kernelspec": {
   "display_name": "Python 3",
   "language": "python",
   "name": "python3"
  },
  "language_info": {
   "codemirror_mode": {
    "name": "ipython",
    "version": 2
   },
   "file_extension": ".py",
   "mimetype": "text/x-python",
   "name": "python",
   "nbconvert_exporter": "python",
   "pygments_lexer": "ipython2",
   "version": "2.7.6"
  }
 },
 "nbformat": 4,
 "nbformat_minor": 0
}
